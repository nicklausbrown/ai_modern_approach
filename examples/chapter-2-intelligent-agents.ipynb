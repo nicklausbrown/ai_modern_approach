{
 "cells": [
  {
   "cell_type": "markdown",
   "id": "06b724f1-5815-4226-85e2-d96fc8adf032",
   "metadata": {},
   "source": [
    "# Imports"
   ]
  },
  {
   "cell_type": "code",
   "execution_count": 19,
   "id": "b2f19ce0-86db-4d7c-91bf-53e333490902",
   "metadata": {},
   "outputs": [],
   "source": [
    "from typing import List\n",
    "from enum import Enum\n",
    "from dataclasses import dataclass, field\n",
    "from random import random\n",
    "from time import sleep\n",
    "\n",
    "from IPython.display import clear_output\n",
    "import numpy as np\n",
    "from colorama import Fore"
   ]
  },
  {
   "cell_type": "markdown",
   "id": "1a44baf2-a321-4eec-baff-961fe2716df7",
   "metadata": {},
   "source": [
    "# Examples"
   ]
  },
  {
   "cell_type": "markdown",
   "id": "756cbc28-1ffd-4f01-83bb-3a4ebc464ea3",
   "metadata": {},
   "source": [
    "Let's model the vacuum environment/agent together (in a more abstract and interesting way) for future chapters and to play with!"
   ]
  },
  {
   "cell_type": "code",
   "execution_count": 12,
   "id": "c4212941-6139-49d4-b5bf-4d072ac6018f",
   "metadata": {},
   "outputs": [],
   "source": [
    "class FloorStates(Enum):\n",
    "    DIRTY = False\n",
    "    CLEAN = True\n",
    "    \n",
    "    def __repr__(self):\n",
    "        prefix = Fore.GREEN if self.value else Fore.RED\n",
    "        return prefix + str.title(self.name) + Fore.WHITE\n",
    "\n",
    "@dataclass\n",
    "class Floor:\n",
    "    \"\"\"\n",
    "    Environment factory for our vacuum to operate in.\n",
    "    \"\"\"\n",
    "    height: int\n",
    "    width: int\n",
    "    cleanliness: float = 0.5\n",
    "    board: np.ndarray = None\n",
    "    \n",
    "    def __post_init__(self):\n",
    "        states = np.array([FloorStates(random() < self.cleanliness) for x in range(self.height * self.width)])\n",
    "        self.board = states.reshape(self.height, self.width)\n",
    "        \n",
    "    def __repr__(self):\n",
    "        if max(self.height, self.width) > 22:\n",
    "            return f\"Height: {self.height}, Width: {self.width}, Area: {self.area}\"\n",
    "        else:\n",
    "            np.set_printoptions(threshold=self.height * self.width, linewidth=np.inf)\n",
    "            return str(self.board)\n",
    "    \n",
    "    @property\n",
    "    def area(self):\n",
    "        return self.height * self.width"
   ]
  },
  {
   "cell_type": "code",
   "execution_count": 26,
   "id": "e900aa25-d8c5-4126-9546-1303a99d69e7",
   "metadata": {},
   "outputs": [
    {
     "name": "stdout",
     "output_type": "stream",
     "text": [
      "[[\u001b[32mClean\u001b[37m \u001b[31mDirty\u001b[37m \u001b[32mClean\u001b[37m \u001b[31mDirty\u001b[37m \u001b[31mDirty\u001b[37m \u001b[31mDirty\u001b[37m \u001b[31mDirty\u001b[37m \u001b[32mClean\u001b[37m \u001b[32mClean\u001b[37m \u001b[32mClean\u001b[37m \u001b[31mDirty\u001b[37m \u001b[31mDirty\u001b[37m \u001b[32mClean\u001b[37m \u001b[31mDirty\u001b[37m \u001b[31mDirty\u001b[37m \u001b[32mClean\u001b[37m \u001b[31mDirty\u001b[37m \u001b[31mDirty\u001b[37m \u001b[31mDirty\u001b[37m \u001b[32mClean\u001b[37m]\n",
      " [\u001b[32mClean\u001b[37m \u001b[31mDirty\u001b[37m \u001b[32mClean\u001b[37m \u001b[32mClean\u001b[37m \u001b[31mDirty\u001b[37m \u001b[32mClean\u001b[37m \u001b[32mClean\u001b[37m \u001b[31mDirty\u001b[37m \u001b[31mDirty\u001b[37m \u001b[32mClean\u001b[37m \u001b[31mDirty\u001b[37m \u001b[32mClean\u001b[37m \u001b[31mDirty\u001b[37m \u001b[31mDirty\u001b[37m \u001b[32mClean\u001b[37m \u001b[32mClean\u001b[37m \u001b[31mDirty\u001b[37m \u001b[31mDirty\u001b[37m \u001b[31mDirty\u001b[37m \u001b[31mDirty\u001b[37m]\n",
      " [\u001b[31mDirty\u001b[37m \u001b[31mDirty\u001b[37m \u001b[31mDirty\u001b[37m \u001b[32mClean\u001b[37m \u001b[31mDirty\u001b[37m \u001b[32mClean\u001b[37m \u001b[32mClean\u001b[37m \u001b[32mClean\u001b[37m \u001b[32mClean\u001b[37m \u001b[31mDirty\u001b[37m \u001b[31mDirty\u001b[37m \u001b[31mDirty\u001b[37m \u001b[32mClean\u001b[37m \u001b[31mDirty\u001b[37m \u001b[32mClean\u001b[37m \u001b[32mClean\u001b[37m \u001b[31mDirty\u001b[37m \u001b[32mClean\u001b[37m \u001b[32mClean\u001b[37m \u001b[32mClean\u001b[37m]\n",
      " [\u001b[32mClean\u001b[37m \u001b[31mDirty\u001b[37m \u001b[31mDirty\u001b[37m \u001b[32mClean\u001b[37m \u001b[31mDirty\u001b[37m \u001b[32mClean\u001b[37m \u001b[31mDirty\u001b[37m \u001b[31mDirty\u001b[37m \u001b[32mClean\u001b[37m \u001b[32mClean\u001b[37m \u001b[32mClean\u001b[37m \u001b[32mClean\u001b[37m \u001b[32mClean\u001b[37m \u001b[31mDirty\u001b[37m \u001b[32mClean\u001b[37m \u001b[32mClean\u001b[37m \u001b[31mDirty\u001b[37m \u001b[32mClean\u001b[37m \u001b[32mClean\u001b[37m \u001b[32mClean\u001b[37m]\n",
      " [\u001b[32mClean\u001b[37m \u001b[32mClean\u001b[37m \u001b[31mDirty\u001b[37m \u001b[31mDirty\u001b[37m \u001b[31mDirty\u001b[37m \u001b[31mDirty\u001b[37m \u001b[32mClean\u001b[37m \u001b[32mClean\u001b[37m \u001b[31mDirty\u001b[37m \u001b[32mClean\u001b[37m \u001b[32mClean\u001b[37m \u001b[31mDirty\u001b[37m \u001b[32mClean\u001b[37m \u001b[31mDirty\u001b[37m \u001b[31mDirty\u001b[37m \u001b[32mClean\u001b[37m \u001b[31mDirty\u001b[37m \u001b[31mDirty\u001b[37m \u001b[32mClean\u001b[37m \u001b[31mDirty\u001b[37m]\n",
      " [\u001b[32mClean\u001b[37m \u001b[32mClean\u001b[37m \u001b[31mDirty\u001b[37m \u001b[32mClean\u001b[37m \u001b[32mClean\u001b[37m \u001b[32mClean\u001b[37m \u001b[32mClean\u001b[37m \u001b[31mDirty\u001b[37m \u001b[31mDirty\u001b[37m \u001b[32mClean\u001b[37m \u001b[32mClean\u001b[37m \u001b[31mDirty\u001b[37m \u001b[31mDirty\u001b[37m \u001b[31mDirty\u001b[37m \u001b[32mClean\u001b[37m \u001b[31mDirty\u001b[37m \u001b[31mDirty\u001b[37m \u001b[31mDirty\u001b[37m \u001b[32mClean\u001b[37m \u001b[32mClean\u001b[37m]\n",
      " [\u001b[31mDirty\u001b[37m \u001b[32mClean\u001b[37m \u001b[31mDirty\u001b[37m \u001b[31mDirty\u001b[37m \u001b[31mDirty\u001b[37m \u001b[32mClean\u001b[37m \u001b[31mDirty\u001b[37m \u001b[32mClean\u001b[37m \u001b[32mClean\u001b[37m \u001b[31mDirty\u001b[37m \u001b[32mClean\u001b[37m \u001b[31mDirty\u001b[37m \u001b[32mClean\u001b[37m \u001b[31mDirty\u001b[37m \u001b[32mClean\u001b[37m \u001b[31mDirty\u001b[37m \u001b[31mDirty\u001b[37m \u001b[31mDirty\u001b[37m \u001b[31mDirty\u001b[37m \u001b[32mClean\u001b[37m]\n",
      " [\u001b[31mDirty\u001b[37m \u001b[31mDirty\u001b[37m \u001b[31mDirty\u001b[37m \u001b[31mDirty\u001b[37m \u001b[32mClean\u001b[37m \u001b[31mDirty\u001b[37m \u001b[32mClean\u001b[37m \u001b[31mDirty\u001b[37m \u001b[31mDirty\u001b[37m \u001b[32mClean\u001b[37m \u001b[32mClean\u001b[37m \u001b[31mDirty\u001b[37m \u001b[32mClean\u001b[37m \u001b[32mClean\u001b[37m \u001b[31mDirty\u001b[37m \u001b[31mDirty\u001b[37m \u001b[31mDirty\u001b[37m \u001b[31mDirty\u001b[37m \u001b[31mDirty\u001b[37m \u001b[32mClean\u001b[37m]\n",
      " [\u001b[32mClean\u001b[37m \u001b[31mDirty\u001b[37m \u001b[31mDirty\u001b[37m \u001b[31mDirty\u001b[37m \u001b[32mClean\u001b[37m \u001b[31mDirty\u001b[37m \u001b[32mClean\u001b[37m \u001b[31mDirty\u001b[37m \u001b[31mDirty\u001b[37m \u001b[31mDirty\u001b[37m \u001b[32mClean\u001b[37m \u001b[31mDirty\u001b[37m \u001b[31mDirty\u001b[37m \u001b[32mClean\u001b[37m \u001b[32mClean\u001b[37m \u001b[31mDirty\u001b[37m \u001b[32mClean\u001b[37m \u001b[32mClean\u001b[37m \u001b[31mDirty\u001b[37m \u001b[32mClean\u001b[37m]\n",
      " [\u001b[32mClean\u001b[37m \u001b[32mClean\u001b[37m \u001b[31mDirty\u001b[37m \u001b[31mDirty\u001b[37m \u001b[32mClean\u001b[37m \u001b[31mDirty\u001b[37m \u001b[31mDirty\u001b[37m \u001b[31mDirty\u001b[37m \u001b[32mClean\u001b[37m \u001b[32mClean\u001b[37m \u001b[32mClean\u001b[37m \u001b[31mDirty\u001b[37m \u001b[31mDirty\u001b[37m \u001b[32mClean\u001b[37m \u001b[32mClean\u001b[37m \u001b[31mDirty\u001b[37m \u001b[31mDirty\u001b[37m \u001b[31mDirty\u001b[37m \u001b[32mClean\u001b[37m \u001b[32mClean\u001b[37m]\n",
      " [\u001b[31mDirty\u001b[37m \u001b[32mClean\u001b[37m \u001b[31mDirty\u001b[37m \u001b[32mClean\u001b[37m \u001b[31mDirty\u001b[37m \u001b[32mClean\u001b[37m \u001b[31mDirty\u001b[37m \u001b[32mClean\u001b[37m \u001b[31mDirty\u001b[37m \u001b[32mClean\u001b[37m \u001b[31mDirty\u001b[37m \u001b[32mClean\u001b[37m \u001b[32mClean\u001b[37m \u001b[31mDirty\u001b[37m \u001b[31mDirty\u001b[37m \u001b[31mDirty\u001b[37m \u001b[32mClean\u001b[37m \u001b[31mDirty\u001b[37m \u001b[32mClean\u001b[37m \u001b[31mDirty\u001b[37m]\n",
      " [\u001b[31mDirty\u001b[37m \u001b[31mDirty\u001b[37m \u001b[32mClean\u001b[37m \u001b[31mDirty\u001b[37m \u001b[32mClean\u001b[37m \u001b[31mDirty\u001b[37m \u001b[32mClean\u001b[37m \u001b[31mDirty\u001b[37m \u001b[32mClean\u001b[37m \u001b[31mDirty\u001b[37m \u001b[31mDirty\u001b[37m \u001b[31mDirty\u001b[37m \u001b[31mDirty\u001b[37m \u001b[32mClean\u001b[37m \u001b[32mClean\u001b[37m \u001b[31mDirty\u001b[37m \u001b[32mClean\u001b[37m \u001b[31mDirty\u001b[37m \u001b[32mClean\u001b[37m \u001b[32mClean\u001b[37m]\n",
      " [\u001b[32mClean\u001b[37m \u001b[31mDirty\u001b[37m \u001b[32mClean\u001b[37m \u001b[32mClean\u001b[37m \u001b[32mClean\u001b[37m \u001b[32mClean\u001b[37m \u001b[31mDirty\u001b[37m \u001b[32mClean\u001b[37m \u001b[32mClean\u001b[37m \u001b[32mClean\u001b[37m \u001b[31mDirty\u001b[37m \u001b[32mClean\u001b[37m \u001b[32mClean\u001b[37m \u001b[32mClean\u001b[37m \u001b[32mClean\u001b[37m \u001b[31mDirty\u001b[37m \u001b[31mDirty\u001b[37m \u001b[31mDirty\u001b[37m \u001b[32mClean\u001b[37m \u001b[31mDirty\u001b[37m]\n",
      " [\u001b[31mDirty\u001b[37m \u001b[31mDirty\u001b[37m \u001b[31mDirty\u001b[37m \u001b[32mClean\u001b[37m \u001b[31mDirty\u001b[37m \u001b[31mDirty\u001b[37m \u001b[32mClean\u001b[37m \u001b[31mDirty\u001b[37m \u001b[31mDirty\u001b[37m \u001b[32mClean\u001b[37m \u001b[32mClean\u001b[37m \u001b[31mDirty\u001b[37m \u001b[32mClean\u001b[37m \u001b[32mClean\u001b[37m \u001b[31mDirty\u001b[37m \u001b[32mClean\u001b[37m \u001b[32mClean\u001b[37m \u001b[31mDirty\u001b[37m \u001b[32mClean\u001b[37m \u001b[31mDirty\u001b[37m]\n",
      " [\u001b[32mClean\u001b[37m \u001b[31mDirty\u001b[37m \u001b[32mClean\u001b[37m \u001b[31mDirty\u001b[37m \u001b[31mDirty\u001b[37m \u001b[31mDirty\u001b[37m \u001b[31mDirty\u001b[37m \u001b[32mClean\u001b[37m \u001b[32mClean\u001b[37m \u001b[32mClean\u001b[37m \u001b[32mClean\u001b[37m \u001b[31mDirty\u001b[37m \u001b[32mClean\u001b[37m \u001b[32mClean\u001b[37m \u001b[31mDirty\u001b[37m \u001b[32mClean\u001b[37m \u001b[32mClean\u001b[37m \u001b[32mClean\u001b[37m \u001b[31mDirty\u001b[37m \u001b[32mClean\u001b[37m]\n",
      " [\u001b[32mClean\u001b[37m \u001b[32mClean\u001b[37m \u001b[31mDirty\u001b[37m \u001b[32mClean\u001b[37m \u001b[32mClean\u001b[37m \u001b[32mClean\u001b[37m \u001b[32mClean\u001b[37m \u001b[32mClean\u001b[37m \u001b[31mDirty\u001b[37m \u001b[32mClean\u001b[37m \u001b[31mDirty\u001b[37m \u001b[32mClean\u001b[37m \u001b[32mClean\u001b[37m \u001b[31mDirty\u001b[37m \u001b[32mClean\u001b[37m \u001b[32mClean\u001b[37m \u001b[31mDirty\u001b[37m \u001b[32mClean\u001b[37m \u001b[31mDirty\u001b[37m \u001b[31mDirty\u001b[37m]\n",
      " [\u001b[32mClean\u001b[37m \u001b[32mClean\u001b[37m \u001b[32mClean\u001b[37m \u001b[32mClean\u001b[37m \u001b[32mClean\u001b[37m \u001b[32mClean\u001b[37m \u001b[32mClean\u001b[37m \u001b[31mDirty\u001b[37m \u001b[31mDirty\u001b[37m \u001b[31mDirty\u001b[37m \u001b[32mClean\u001b[37m \u001b[31mDirty\u001b[37m \u001b[32mClean\u001b[37m \u001b[32mClean\u001b[37m \u001b[32mClean\u001b[37m \u001b[32mClean\u001b[37m \u001b[31mDirty\u001b[37m \u001b[32mClean\u001b[37m \u001b[32mClean\u001b[37m \u001b[32mClean\u001b[37m]\n",
      " [\u001b[31mDirty\u001b[37m \u001b[31mDirty\u001b[37m \u001b[32mClean\u001b[37m \u001b[31mDirty\u001b[37m \u001b[32mClean\u001b[37m \u001b[32mClean\u001b[37m \u001b[32mClean\u001b[37m \u001b[32mClean\u001b[37m \u001b[31mDirty\u001b[37m \u001b[31mDirty\u001b[37m \u001b[31mDirty\u001b[37m \u001b[31mDirty\u001b[37m \u001b[31mDirty\u001b[37m \u001b[31mDirty\u001b[37m \u001b[32mClean\u001b[37m \u001b[32mClean\u001b[37m \u001b[32mClean\u001b[37m \u001b[31mDirty\u001b[37m \u001b[31mDirty\u001b[37m \u001b[32mClean\u001b[37m]\n",
      " [\u001b[31mDirty\u001b[37m \u001b[31mDirty\u001b[37m \u001b[31mDirty\u001b[37m \u001b[31mDirty\u001b[37m \u001b[31mDirty\u001b[37m \u001b[32mClean\u001b[37m \u001b[31mDirty\u001b[37m \u001b[31mDirty\u001b[37m \u001b[32mClean\u001b[37m \u001b[32mClean\u001b[37m \u001b[31mDirty\u001b[37m \u001b[31mDirty\u001b[37m \u001b[31mDirty\u001b[37m \u001b[32mClean\u001b[37m \u001b[31mDirty\u001b[37m \u001b[31mDirty\u001b[37m \u001b[32mClean\u001b[37m \u001b[31mDirty\u001b[37m \u001b[31mDirty\u001b[37m \u001b[31mDirty\u001b[37m]\n",
      " [\u001b[31mDirty\u001b[37m \u001b[31mDirty\u001b[37m \u001b[32mClean\u001b[37m \u001b[32mClean\u001b[37m \u001b[31mDirty\u001b[37m \u001b[31mDirty\u001b[37m \u001b[32mClean\u001b[37m \u001b[32mClean\u001b[37m \u001b[31mDirty\u001b[37m \u001b[32mClean\u001b[37m \u001b[31mDirty\u001b[37m \u001b[31mDirty\u001b[37m \u001b[32mClean\u001b[37m \u001b[31mDirty\u001b[37m \u001b[32mClean\u001b[37m \u001b[32mClean\u001b[37m \u001b[31mDirty\u001b[37m \u001b[31mDirty\u001b[37m \u001b[32mClean\u001b[37m \u001b[32mClean\u001b[37m]]\n"
     ]
    }
   ],
   "source": [
    "# quick check on displaying in jupyter\n",
    "for x in range(20):\n",
    "    clear_output(wait=True)\n",
    "    print(Floor(20, 20))\n",
    "    sleep(0.1)"
   ]
  },
  {
   "cell_type": "code",
   "execution_count": null,
   "id": "60aa378d-8ada-49f8-9b6f-8fb4463dc2cf",
   "metadata": {},
   "outputs": [],
   "source": []
  }
 ],
 "metadata": {
  "kernelspec": {
   "display_name": "Python 3 (ipykernel)",
   "language": "python",
   "name": "python3"
  },
  "language_info": {
   "codemirror_mode": {
    "name": "ipython",
    "version": 3
   },
   "file_extension": ".py",
   "mimetype": "text/x-python",
   "name": "python",
   "nbconvert_exporter": "python",
   "pygments_lexer": "ipython3",
   "version": "3.9.7"
  }
 },
 "nbformat": 4,
 "nbformat_minor": 5
}
